{
 "cells": [
  {
   "cell_type": "markdown",
   "metadata": {},
   "source": [
    "# Opponent Modelling in Heads Up Limit Hold'em\n",
    "\n",
    "### Zachary Dawson\n",
    "\n",
    "### TA: Prabal Malviya\n",
    "\n",
    "# Problem DescriptionZachary Dawson\n",
    "\n",
    "\n",
    "Limit Texas Hold'em is a game of imperfect information. In any game the hole cards of each player are hidden and, so you must predict how your opponent will act in various situations. This requires predictions of actions given certain hand attributes. Each action can be classified as either a fold, call, or raise. Hold'em is an interesting game with many nuances that are not understood by the general public. \n",
    "\n",
    "The original idea for a project creating an opponent model for poker came from [AlphaGo](https://storage.googleapis.com/deepmind-media/alphago/AlphaGoNaturePaper.pdf), a perfect information game. They started their training process by training a supervised maching using match histories of high amateur players. They then improved upon there inital predictions using partial solving and Monte Carlo Tree Search to create their final agent. Extending this to an imperfect information game would require a similar process.\n",
    "\n",
    "Opponent modelling has been done many times before in poker. In [Learning Strategies for\n",
    "Opponent Modeling in Poker](https://github.com/zachwdawson/DS4400FinalProject/blob/main/7132-30507-1-PB.pdf) supervised learning models were trained successfully to predict specific players actions given hand histories from that players games. There were also two books [1](https://github.com/zachwdawson/DS4400FinalProject/blob/main/2006_Book_ComputersAndGames.pdf) [2](https://github.com/zachwdawson/DS4400FinalProject/blob/main/poker%20metrics%20calculation.pdf) that went through various metrics and techniques for making creating poker AI. Many of the metrics used for features are calculated using algorithms from these works.\n",
    "\n",
    "# Dataset\n",
    "\n",
    "Raw hand histories from Poker Academy Pro are the raw data used for this project. A single hand in this form looks something like this:\n",
    "\n",
    "******************************\n",
    "    Poker Academy Pro #22,679\n",
    "    Limit Texas Holdem ($1/$2)\n",
    "    Table SimpleBot Logger\n",
    "    November 24, 2010 - 13:23:10 (GMT)\n",
    "\n",
    "     1} David               (sitting out)\n",
    "     5) LoggingSimpleBot       $996  5c 5d\n",
    "     6) SimpleBot *          $1,004  4s Ts\n",
    "\n",
    "    SimpleBot posts small blind $0.50\n",
    "    LoggingSimpleBot posts big blind $1\n",
    "    SimpleBot calls $0.50 \n",
    "    LoggingSimpleBot checks\n",
    "\n",
    "    FLOP:  Th 4c 6h\n",
    "    LoggingSimpleBot checks\n",
    "    SimpleBot bets $1\n",
    "    LoggingSimpleBot calls $1 \n",
    "\n",
    "    TURN:  Th 4c 6h 5s\n",
    "    LoggingSimpleBot bets $2\n",
    "    SimpleBot raises $2\n",
    "    LoggingSimpleBot raises $2\n",
    "    SimpleBot raises $2\n",
    "    LoggingSimpleBot calls $2 \n",
    "\n",
    "    RIVER:  Th 4c 6h 5s Jc\n",
    "    LoggingSimpleBot bets $2\n",
    "    SimpleBot raises $2\n",
    "    LoggingSimpleBot raises $2\n",
    "    SimpleBot raises $2\n",
    "    LoggingSimpleBot calls $2 \n",
    "    SimpleBot shows 4s Ts\n",
    "    LoggingSimpleBot shows 5c 5d\n",
    "\n",
    "    LoggingSimpleBot wins $36 with Three of a Kind, Fives\n",
    "\n",
    "******************************\n",
    "\n",
    "These histories give all the necessary information to extract any feature, as all of the information is available, even the opponents hole cards. In an attempt to emulate previous work, The following features were meant to be extracted:\n",
    "\n",
    "<img src=\"https://github.com/zachwdawson/DS4400FinalProject/blob/62f9f4106928f61cda531c731df64dffea6606dd/Screen%20Shot%202021-03-04%20at%2012.50.31%20PM.png?raw=true\" alt=\"drawing\" width=\"300\"/>\n",
    "\n",
    "Unfortunately, many of these features could not be extracted as they were too computationally expensive. PPOT and NPOT required iterating over all possible runouts of ocmmunal cards and calculate if you win or your opponent. It must also iterate over all opponent possible hands, which ends up being extraordinarily large, so these features could not be extraacted. As such, winning probability is a much simpler approximation than the formula layed out by Billings, which used both PPOT and NPOT in the calculation. Hand strength and rank are determined using [eval7](https://github.com/julianandrews/pyeval7), a python hand evaluator, which quickly determines how strong your hand is relative to all other hands. All other features are made simply by saving the previous actions from the hand and determining raise amounts and stack committed for your opponent and yourself. All feature extraction was run using python scripts that dumped into a csv that can be seen below."
   ]
  },
  {
   "cell_type": "code",
   "execution_count": 1,
   "metadata": {},
   "outputs": [
    {
     "name": "stderr",
     "output_type": "stream",
     "text": [
      "/Users/zacharydawson/artificial-intelligence/poker/venv/lib/python3.9/site-packages/IPython/core/interactiveshell.py:3165: DtypeWarning: Columns (1,2,3,4,6,7,8,9,10,11,12,13,14,15,16,17,18,19) have mixed types.Specify dtype option on import or set low_memory=False.\n",
      "  has_raised = await self.run_ast_nodes(code_ast.body, cell_name,\n"
     ]
    },
    {
     "data": {
      "text/plain": "       action number target stage dealer hand_strength  hand_rank  \\\n32768             11      2     3      0      0.005564          0   \n32771              2      6     0      1      0.004551          0   \n32772              3      5     0      0      0.006129          0   \n32773              4      4     1      0      0.130402          1   \n32774              5      2     1      1       0.00611          0   \n32777              2      2     0      0      0.002033          0   \n32780              2      6     0      1       0.00355          0   \n32781              3      2     0      0       0.00537          0   \n32784              2      2     0      1      0.003034          0   \n32787              2      6     0      1      0.001517          0   \n\n      opp_last_action my_last_action my_stack_committed_curr_phase  \\\n32768             3.0            4.0                           0.0   \n32771             0.0            1.0                           0.5   \n32772             1.0            6.0                           1.0   \n32773             5.0            6.0                           0.0   \n32774             6.0            4.0                           0.0   \n32777             0.0            1.0                           0.5   \n32780             0.0            1.0                           0.5   \n32781             1.0            6.0                           1.0   \n32784             0.0            1.0                           0.5   \n32787             0.0            1.0                           0.5   \n\n      opp_stack_committed_curr_phase my_num_raises_curr_phase  \\\n32768                            2.0                      0.0   \n32771                            1.0                      1.0   \n32772                            1.5                      1.0   \n32773                            0.0                      0.0   \n32774                            1.0                      0.0   \n32777                            1.0                      1.0   \n32780                            1.0                      1.0   \n32781                            1.5                      1.0   \n32784                            1.0                      1.0   \n32787                            1.0                      1.0   \n\n      opp_num_raises_curr_phase my_num_raises_total opp_num_raises_total  \\\n32768                       2.0                 5.0                  8.0   \n32771                       1.0                 1.0                  1.0   \n32772                       2.0                 1.0                  2.0   \n32773                       0.0                 2.0                  2.0   \n32774                       1.0                 2.0                  3.0   \n32777                       1.0                 1.0                  1.0   \n32780                       1.0                 1.0                  1.0   \n32781                       2.0                 1.0                  2.0   \n32784                       1.0                 1.0                  1.0   \n32787                       1.0                 1.0                  1.0   \n\n      num_outs winning_prob highest_card num_aces num_kings num_queens  \n32768       18        0.378         11.0        0         0          0  \n32771        0       0.5148            0        0         0          0  \n32772        0      0.64005            0        0         0          0  \n32773        8        0.168         12.0        0         0          0  \n32774       12        0.252         12.0        0         0          0  \n32777        0      0.40155            0        0         0          0  \n32780        0       0.4652            0        0         0          0  \n32781        0       0.5383            0        0         0          0  \n32784        0      0.43395            0        0         0          0  \n32787        0       0.3855            0        0         0          0  ",
      "text/html": "<div>\n<style scoped>\n    .dataframe tbody tr th:only-of-type {\n        vertical-align: middle;\n    }\n\n    .dataframe tbody tr th {\n        vertical-align: top;\n    }\n\n    .dataframe thead th {\n        text-align: right;\n    }\n</style>\n<table border=\"1\" class=\"dataframe\">\n  <thead>\n    <tr style=\"text-align: right;\">\n      <th></th>\n      <th>action number</th>\n      <th>target</th>\n      <th>stage</th>\n      <th>dealer</th>\n      <th>hand_strength</th>\n      <th>hand_rank</th>\n      <th>opp_last_action</th>\n      <th>my_last_action</th>\n      <th>my_stack_committed_curr_phase</th>\n      <th>opp_stack_committed_curr_phase</th>\n      <th>my_num_raises_curr_phase</th>\n      <th>opp_num_raises_curr_phase</th>\n      <th>my_num_raises_total</th>\n      <th>opp_num_raises_total</th>\n      <th>num_outs</th>\n      <th>winning_prob</th>\n      <th>highest_card</th>\n      <th>num_aces</th>\n      <th>num_kings</th>\n      <th>num_queens</th>\n    </tr>\n  </thead>\n  <tbody>\n    <tr>\n      <th>32768</th>\n      <td>11</td>\n      <td>2</td>\n      <td>3</td>\n      <td>0</td>\n      <td>0.005564</td>\n      <td>0</td>\n      <td>3.0</td>\n      <td>4.0</td>\n      <td>0.0</td>\n      <td>2.0</td>\n      <td>0.0</td>\n      <td>2.0</td>\n      <td>5.0</td>\n      <td>8.0</td>\n      <td>18</td>\n      <td>0.378</td>\n      <td>11.0</td>\n      <td>0</td>\n      <td>0</td>\n      <td>0</td>\n    </tr>\n    <tr>\n      <th>32771</th>\n      <td>2</td>\n      <td>6</td>\n      <td>0</td>\n      <td>1</td>\n      <td>0.004551</td>\n      <td>0</td>\n      <td>0.0</td>\n      <td>1.0</td>\n      <td>0.5</td>\n      <td>1.0</td>\n      <td>1.0</td>\n      <td>1.0</td>\n      <td>1.0</td>\n      <td>1.0</td>\n      <td>0</td>\n      <td>0.5148</td>\n      <td>0</td>\n      <td>0</td>\n      <td>0</td>\n      <td>0</td>\n    </tr>\n    <tr>\n      <th>32772</th>\n      <td>3</td>\n      <td>5</td>\n      <td>0</td>\n      <td>0</td>\n      <td>0.006129</td>\n      <td>0</td>\n      <td>1.0</td>\n      <td>6.0</td>\n      <td>1.0</td>\n      <td>1.5</td>\n      <td>1.0</td>\n      <td>2.0</td>\n      <td>1.0</td>\n      <td>2.0</td>\n      <td>0</td>\n      <td>0.64005</td>\n      <td>0</td>\n      <td>0</td>\n      <td>0</td>\n      <td>0</td>\n    </tr>\n    <tr>\n      <th>32773</th>\n      <td>4</td>\n      <td>4</td>\n      <td>1</td>\n      <td>0</td>\n      <td>0.130402</td>\n      <td>1</td>\n      <td>5.0</td>\n      <td>6.0</td>\n      <td>0.0</td>\n      <td>0.0</td>\n      <td>0.0</td>\n      <td>0.0</td>\n      <td>2.0</td>\n      <td>2.0</td>\n      <td>8</td>\n      <td>0.168</td>\n      <td>12.0</td>\n      <td>0</td>\n      <td>0</td>\n      <td>0</td>\n    </tr>\n    <tr>\n      <th>32774</th>\n      <td>5</td>\n      <td>2</td>\n      <td>1</td>\n      <td>1</td>\n      <td>0.00611</td>\n      <td>0</td>\n      <td>6.0</td>\n      <td>4.0</td>\n      <td>0.0</td>\n      <td>1.0</td>\n      <td>0.0</td>\n      <td>1.0</td>\n      <td>2.0</td>\n      <td>3.0</td>\n      <td>12</td>\n      <td>0.252</td>\n      <td>12.0</td>\n      <td>0</td>\n      <td>0</td>\n      <td>0</td>\n    </tr>\n    <tr>\n      <th>32777</th>\n      <td>2</td>\n      <td>2</td>\n      <td>0</td>\n      <td>0</td>\n      <td>0.002033</td>\n      <td>0</td>\n      <td>0.0</td>\n      <td>1.0</td>\n      <td>0.5</td>\n      <td>1.0</td>\n      <td>1.0</td>\n      <td>1.0</td>\n      <td>1.0</td>\n      <td>1.0</td>\n      <td>0</td>\n      <td>0.40155</td>\n      <td>0</td>\n      <td>0</td>\n      <td>0</td>\n      <td>0</td>\n    </tr>\n    <tr>\n      <th>32780</th>\n      <td>2</td>\n      <td>6</td>\n      <td>0</td>\n      <td>1</td>\n      <td>0.00355</td>\n      <td>0</td>\n      <td>0.0</td>\n      <td>1.0</td>\n      <td>0.5</td>\n      <td>1.0</td>\n      <td>1.0</td>\n      <td>1.0</td>\n      <td>1.0</td>\n      <td>1.0</td>\n      <td>0</td>\n      <td>0.4652</td>\n      <td>0</td>\n      <td>0</td>\n      <td>0</td>\n      <td>0</td>\n    </tr>\n    <tr>\n      <th>32781</th>\n      <td>3</td>\n      <td>2</td>\n      <td>0</td>\n      <td>0</td>\n      <td>0.00537</td>\n      <td>0</td>\n      <td>1.0</td>\n      <td>6.0</td>\n      <td>1.0</td>\n      <td>1.5</td>\n      <td>1.0</td>\n      <td>2.0</td>\n      <td>1.0</td>\n      <td>2.0</td>\n      <td>0</td>\n      <td>0.5383</td>\n      <td>0</td>\n      <td>0</td>\n      <td>0</td>\n      <td>0</td>\n    </tr>\n    <tr>\n      <th>32784</th>\n      <td>2</td>\n      <td>2</td>\n      <td>0</td>\n      <td>1</td>\n      <td>0.003034</td>\n      <td>0</td>\n      <td>0.0</td>\n      <td>1.0</td>\n      <td>0.5</td>\n      <td>1.0</td>\n      <td>1.0</td>\n      <td>1.0</td>\n      <td>1.0</td>\n      <td>1.0</td>\n      <td>0</td>\n      <td>0.43395</td>\n      <td>0</td>\n      <td>0</td>\n      <td>0</td>\n      <td>0</td>\n    </tr>\n    <tr>\n      <th>32787</th>\n      <td>2</td>\n      <td>6</td>\n      <td>0</td>\n      <td>1</td>\n      <td>0.001517</td>\n      <td>0</td>\n      <td>0.0</td>\n      <td>1.0</td>\n      <td>0.5</td>\n      <td>1.0</td>\n      <td>1.0</td>\n      <td>1.0</td>\n      <td>1.0</td>\n      <td>1.0</td>\n      <td>0</td>\n      <td>0.3855</td>\n      <td>0</td>\n      <td>0</td>\n      <td>0</td>\n      <td>0</td>\n    </tr>\n  </tbody>\n</table>\n</div>"
     },
     "execution_count": 1,
     "metadata": {},
     "output_type": "execute_result"
    }
   ],
   "source": [
    "import pandas as pd\n",
    "import numpy as np\n",
    "\n",
    "columns = ['action number','target', 'stage', 'dealer', 'hand_strength', 'hand_rank', 'opp_last_action',\n",
    "        'my_last_action', 'my_stack_committed_curr_phase', 'opp_stack_committed_curr_phase',\n",
    "        'my_num_raises_curr_phase', 'opp_num_raises_curr_phase',\n",
    "        'my_num_raises_total', 'opp_num_raises_total','num_outs', \n",
    "        'winning_prob','highest_card', 'num_aces', 'num_kings', 'num_queens']\n",
    "hands = pd.read_csv('/Users/zacharydawson/artificial-intelligence/poker/data/hand_histories/test.csv', names=columns)\n",
    "hands = hands.drop(0, axis=0)\n",
    "hands = hands.fillna(0)\n",
    "np.max(hands['winning_prob'].astype(float))\n",
    "hands['target'].astype(int).unique()\n",
    "hands.astype({'action number': 'float', 'target': 'int32','stage': 'int32','dealer': 'bool','hand_strength': 'float','hand_rank': 'object',\n",
    "             'opp_last_action': 'int32','my_last_action': 'int32','my_stack_committed_curr_phase': 'float','opp_stack_committed_curr_phase': 'float',\n",
    "              'my_num_raises_curr_phase': 'float','opp_num_raises_curr_phase': 'float', 'my_num_raises_total': 'float',\n",
    "             'opp_num_raises_total': 'float', 'num_outs': 'int32', 'winning_prob': 'float','highest_card': 'int32',\n",
    "             'num_aces': 'int32','num_kings': 'int32','num_queens': 'int32'}).dtypes\n",
    "hands['action number'] = hands['action number'].astype(int)\n",
    "hands['dealer'] = hands['dealer'] * 1\n",
    "hands = hands[(hands.target == 2)| (hands.target == 3) | (hands.target == 4) | (hands.target == 5) | (hands.target == 6)] ## remove all actions that are not check, call, bet, or fold: (all non-mandatory actions) \n",
    "\n",
    "hand_ranks={\n",
    "    'High Card':0,\n",
    "    'Pair':1,\n",
    "    'Two Pair':2,\n",
    "    'Trips':3,\n",
    "    'Straight':4,\n",
    "    'Flush': 5,\n",
    "    'Full House': 6,\n",
    "    'Quads': 7,\n",
    "    'Straight Flush': 8\n",
    "}\n",
    "\n",
    "hands['hand_rank'] = hands['hand_rank'].map(hand_ranks)\n",
    "hands['hand_rank'] = hands['hand_rank'].astype(int)\n",
    "hands['winning_prob'] = hands['winning_prob'] / 100\n",
    "\n",
    "hands.head(10)"
   ]
  },
  {
   "cell_type": "code",
   "execution_count": 2,
   "metadata": {},
   "outputs": [],
   "source": [
    "target = hands['target']\n",
    "options = {\n",
    "    2: 0,\n",
    "    3: 1,\n",
    "    5: 1,\n",
    "    4: 2,\n",
    "    6: 2\n",
    "}\n",
    "target_scaled = target.map(options).astype(int)"
   ]
  },
  {
   "cell_type": "code",
   "execution_count": 3,
   "metadata": {},
   "outputs": [
    {
     "data": {
      "text/plain": "array([0, 1, 3, 5, 2, 4, 7, 6, 8])"
     },
     "execution_count": 3,
     "metadata": {},
     "output_type": "execute_result"
    }
   ],
   "source": [
    "features = hands.drop(['action number', 'target'], axis=1)\n",
    "features.head(5)\n",
    "features['hand_rank'].unique()"
   ]
  },
  {
   "cell_type": "markdown",
   "metadata": {},
   "source": [
    "## Final DataFrame\n",
    "\n",
    "The final dataset includes 18 features that include the stage (preflop, postflop, turn, or river), whether or not the player is the dealer, the hand strength of the players hole cards and the communal cards, hand_rank (High Card, Pair, Two Pair, Trips, Straight, Flush, Full House, Quads, Straight Flush), opp_last_action(fold, call, check, bet, raise), my_last_action, stack sizes committed by each player, number of raises by each player, number of outs to a better hand, the probability the player wins the hand, and some statistics about the board cards.\n",
    "\n",
    "## Charts"
   ]
  },
  {
   "cell_type": "code",
   "execution_count": 4,
   "metadata": {},
   "outputs": [],
   "source": [
    "## Prepare data for charts\n",
    "\n",
    "import plotly.express as px\n",
    "chart_df = features.copy()\n",
    "chart_df['target'] = target_scaled\n",
    "chart_df.groupby(['stage', 'dealer']).count()['hand_strength']\n",
    "\n",
    "action = {}\n",
    "\n",
    "for stage in chart_df['stage'].unique():\n",
    "    dealer_action = {}\n",
    "    for dealer in [0,1]:\n",
    "        stage_action = {}\n",
    "        for target in chart_df['target'].unique():\n",
    "            stage_action[target] = chart_df[(chart_df['stage'] == stage) & (chart_df['target'] == target) & (chart_df['dealer'] == dealer)].count()['hand_strength']\n",
    "        dealer_action[dealer] = stage_action \n",
    "        \n",
    "    action[stage] = dealer_action\n",
    "\n",
    "stage_hand_rank = {}\n",
    "for stage in chart_df['stage'].unique():\n",
    "    hand_rank_action = {}\n",
    "    for hand_rank in chart_df['hand_rank'].unique():\n",
    "        hand_rank_action[hand_rank] = chart_df[(chart_df['stage'] == stage) & (chart_df['hand_rank'] == hand_rank)].count()['hand_strength']\n",
    "    \n",
    "    stage_hand_rank[stage] = hand_rank_action\n",
    "\n",
    "    "
   ]
  },
  {
   "cell_type": "code",
   "execution_count": 5,
   "metadata": {},
   "outputs": [
    {
     "data": {
      "text/plain": "<Figure size 720x576 with 1 Axes>",
      "image/png": "[encoded data removed]"
     },
     "metadata": {},
     "output_type": "display_data"
    }
   ],
   "source": [
    "import matplotlib.pyplot as plt\n",
    "\n",
    "labels = ['PREFLOP', 'POSTFLOP', 'TURN', 'RIVER']\n",
    "fig1, ax1 = plt.subplots()\n",
    "fig1.set_size_inches(10, 8)\n",
    "ax1.pie(chart_df.groupby('stage').count()['dealer'], labels=labels, autopct='%1.1f%%',\n",
    "        shadow=True, startangle=90, colors=['red', 'blue', 'yellow', 'green'])\n",
    "ax1.axis('equal')\n",
    "\n",
    "plt.show()"
   ]
  },
  {
   "cell_type": "markdown",
   "metadata": {},
   "source": [
    "This chart shows that the majority of the decisions within the dataset were from the preflop phase and slowly dropping off to only 6% for flop phases. This demonstrates an immediate need to process more hand histories, potentially filtering for hands that go to the river, and adding to the training data."
   ]
  },
  {
   "cell_type": "code",
   "execution_count": 6,
   "metadata": {},
   "outputs": [
    {
     "data": {
      "text/plain": "<Figure size 720x576 with 1 Axes>",
      "image/png": "[encoded data removed]"
     },
     "metadata": {
      "needs_background": "light"
     },
     "output_type": "display_data"
    }
   ],
   "source": [
    "## Build dealer vs. Non-dealer chart\n",
    "\n",
    "labels = ['PREFLOP', 'POSTFLOP', 'TURN', 'RIVER']\n",
    "pre = action[0]\n",
    "post = action[1]\n",
    "turn = action[2]\n",
    "river = action[3]\n",
    "nd_fold = [pre[0][0], post[0][0], turn[0][0], river[0][0]]\n",
    "d_fold = [pre[1][0], post[1][0], turn[1][0], river[1][0]]\n",
    "nd_check = [pre[0][1], post[0][1], turn[0][1], river[0][1]]\n",
    "d_check = [pre[1][1], post[1][1], turn[1][1], river[1][1]]\n",
    "nd_raise = [pre[0][2], post[0][2], turn[0][2], river[0][2]]\n",
    "d_raise = [pre[1][2], post[1][2], turn[1][2], river[1][2]]\n",
    "width = 0.35       # the width of the bars: can also be len(x) sequence\n",
    "\n",
    "fig, ax = plt.subplots()\n",
    "fig.set_size_inches(10, 8)\n",
    "\n",
    "ax.bar(labels, nd_fold, width, color='red', label='Fold as Non-Dealer')\n",
    "ax.bar(labels, d_fold, width, bottom=nd_fold, color='black',  label='Fold as Dealer')\n",
    "ax.bar(labels, nd_check, width, bottom=d_fold, color='green',  label='Check as Non-Dealer')\n",
    "ax.bar(labels, d_check, width, bottom=nd_check, color='purple', label='Check as Dealer')\n",
    "ax.bar(labels, nd_raise, width, bottom=d_check, color='yellow', label='Raise as Non-Dealer')\n",
    "ax.bar(labels, d_raise, width, bottom=nd_raise, color='blue', label='Raise as Dealer')\n",
    "\n",
    "ax.set_ylabel('Action Count')\n",
    "ax.set_title('Action as dealer vs. non-dealer')\n",
    "ax.legend()\n",
    "\n",
    "plt.show()\n"
   ]
  },
  {
   "cell_type": "markdown",
   "metadata": {},
   "source": [
    "This shows the percentage of each action as the dealer and not as the dealer. Clearly the dealer is incentivised to push the action as they are the last to act in each betting round. This means that they can gain more information before making their decision and can therfore be more agressive. These ranges would look very different in a no limit holdem game but limit holdem incentivises longer hands, as you are never able to raise the pot to astronomical sizes and can therefore never lose your entire stack."
   ]
  },
  {
   "cell_type": "code",
   "execution_count": 93,
   "metadata": {},
   "outputs": [
    {
     "data": {
      "image/png": "[encoded data removed]",
      "text/plain": [
       "<Figure size 720x576 with 1 Axes>"
      ]
     },
     "metadata": {
      "needs_background": "light"
     },
     "output_type": "display_data"
    }
   ],
   "source": [
    "import matplotlib.pyplot as plt\n",
    "\n",
    "## Build hand rank chart\n",
    "\n",
    "labels = ['PREFLOP', 'POSTFLOP', 'TURN', 'RIVER']\n",
    "pre = stage_hand_rank[0]\n",
    "post = stage_hand_rank[1]\n",
    "turn = stage_hand_rank[2]\n",
    "river = stage_hand_rank[3]\n",
    "high_card = [pre[0], post[0], turn[0], river[0]]\n",
    "pair = [pre[1], post[1], turn[1], river[1]]\n",
    "two_pair = [pre[2], post[2], turn[2], river[2]]\n",
    "trips = [pre[3], post[3], turn[3], river[3]]\n",
    "straight = [pre[4], post[4], turn[4], river[4]]\n",
    "flush = [pre[5], post[5], turn[5], river[5]]\n",
    "full_house = [pre[6], post[6], turn[6], river[6]]\n",
    "quads = [pre[7], post[7], turn[7], river[7]]\n",
    "straight_flush = [pre[8], post[8], turn[8], river[8]]\n",
    "\n",
    "width = 0.35       # the width of the bars: can also be len(x) sequence\n",
    "\n",
    "fig, ax = plt.subplots()\n",
    "fig.set_size_inches(10, 8)\n",
    "\n",
    "colors = {'HIGH CARD': 'blue', 'PAIR':'red', 'TWO PAIR':'green',\n",
    "             'TRIPS': 'yellow', 'STRAIGHT':'purple', 'FLUSH':'black',\n",
    "             'FULL HOUSE': 'cyan', 'QUADS':'orange', 'STRAIGHT FLUSH':'gray'}    \n",
    "colors_i = { 0: 'blue', 1:'red', 2:'green',\n",
    "             3: 'yellow', 4:'purple', 5:'black',\n",
    "             6: 'cyan', 7:'orange', 8:'gray'} \n",
    "labels = list(hand_ranks.keys())\n",
    "plt.legend(handles, labels)\n",
    "\n",
    "for stage, (hc, p, two_p, trip, s, f, fh, q, sf)  in enumerate(zip(high_card, pair, two_pair, trips, straight, flush, full_house, quads, straight_flush)):\n",
    "    for i, (h, c) in enumerate(sorted([(hc, 0), (p, 1), (two_p, 2), (trip, 3), (s, 4), (f, 5), (fh, 6), (q, 7), (sf, 8)])):\n",
    "        ax.bar(labels[stage], h, width, zorder=-i, color=colors_i[c])\n",
    "\n",
    "plt.xticks(labels[0:4], ['PREFLOP', 'POSTFLOP', 'TURN', 'RIVER'])\n",
    "ax.set_ylabel('Count')\n",
    "ax.set_title('Hands Ranks at Each Satge')\n",
    "plt.show()"
   ]
  },
  {
   "cell_type": "markdown",
   "metadata": {},
   "source": [
    "This chart shows the hands that are being played by each opponent at each stage of the game. Most hands start as a high card except pocket pairs and they rapidly dwindle, as making good hands are rare. It is interesting to see that players play with drawing cards (ie. high card) with a hope to improve, but will not play those at the river, as they no longer have any chance to improve. \n",
    "\n",
    "# Approach and Methodology\n",
    "\n",
    "In order to create data that could be input into a dataframe, an immense amount of preprocessing was needed. Iterating over each line and creating Hand objects. Hand objects had players which had various player statistics as well as a list of actions. A Hand object was then used to create a list of Decisions. Decisions take in various traits like the hole cards of the player, the communal cards, the actual decision made, and other hand statistics. These traits are then used to calculate the various features and written to a csv that can be loaded as a decision dataframe.\n",
    "\n",
    "After this, most of the feature normalization is very simple, as most are either discrete values or simple numerical values.\n",
    "* Note: I would like to hear ideas on any feature normalization I have overlooked or feature extraction ideas before moving on to train more models.\n",
    "\n",
    "### Models\n",
    "\n",
    "I trained one model as I have had to spend so much time extracting the features and the performance was decent, especially in a game that is inherently random. The results can be seen below. I used recursive feature elimination and cross-validated selection to train a random forest classifier.\n",
    "\n",
    "* Note: We discussed using Random Forests and SVM but if there are other models you would reccommend after seeing the final data I would like to hear it.\n",
    "\n",
    "### Challenges/Changes\n",
    "\n",
    "I originally wanted to do no limit hold'em instead of limit hold'em and I wanted to use multiple players at the table. Both of those things became quickly intractable, as the dataset I had did not show hole cards unless they were shown down, making it impossible to extract the features I wanted for each decision. Limit hold'em also has only 3 actions fold, check, raise, whereas no limit holdem allows for raises of any size, making the state space exceptionally large."
   ]
  },
  {
   "cell_type": "code",
   "execution_count": 94,
   "metadata": {},
   "outputs": [
    {
     "data": {
      "text/plain": [
       "Pipeline(steps=[('feature_sele',\n",
       "                 RFECV(cv=5,\n",
       "                       estimator=RandomForestClassifier(class_weight='balanced',\n",
       "                                                        n_estimators=30,\n",
       "                                                        random_state=42),\n",
       "                       scoring='roc_auc')),\n",
       "                ('clf_cv',\n",
       "                 GridSearchCV(cv=5,\n",
       "                              estimator=RandomForestClassifier(class_weight='balanced',\n",
       "                                                               n_estimators=10,\n",
       "                                                               random_state=42),\n",
       "                              param_grid={'max_depth': [2, 3]},\n",
       "                              scoring='roc_auc'))])"
      ]
     },
     "execution_count": 94,
     "metadata": {},
     "output_type": "execute_result"
    }
   ],
   "source": [
    "from sklearn.feature_selection import RFECV\n",
    "from sklearn.model_selection import GridSearchCV\n",
    "from sklearn.model_selection import train_test_split\n",
    "from sklearn.ensemble import RandomForestClassifier\n",
    "from sklearn.pipeline import Pipeline\n",
    "from sklearn import preprocessing\n",
    "\n",
    "\n",
    "target_binarized = preprocessing.label_binarize(target_scaled, classes=[0, 1, 2])\n",
    "\n",
    "X_train, X_test, y_train, y_test = train_test_split(features, target_binarized, random_state=3000) \n",
    "\n",
    "clf_featr_sele = RandomForestClassifier(n_estimators=30, \n",
    "                                        random_state=42,\n",
    "                                        class_weight=\"balanced\") \n",
    "\n",
    "rfecv = RFECV(estimator=clf_featr_sele, \n",
    "              step=1, \n",
    "              cv=5, \n",
    "              scoring = 'roc_auc')\n",
    "\n",
    "clf = RandomForestClassifier(n_estimators=10, \n",
    "                             random_state=42,\n",
    "                             class_weight=\"balanced\") \n",
    "CV_rfc = GridSearchCV(clf, \n",
    "                      param_grid={'max_depth':[2,3]},\n",
    "                      cv= 5, scoring = 'roc_auc')\n",
    "\n",
    "pipeline  = Pipeline([('feature_sele',rfecv),\n",
    "                      ('clf_cv',CV_rfc)])\n",
    "\n",
    "pipeline.fit(X_train, y_train)"
   ]
  },
  {
   "cell_type": "code",
   "execution_count": 95,
   "metadata": {},
   "outputs": [
    {
     "name": "stdout",
     "output_type": "stream",
     "text": [
      "Accuracy= 0.7816910467652317\n",
      "Error= 0.2183089532347683\n",
      "\n"
     ]
    },
    {
     "name": "stderr",
     "output_type": "stream",
     "text": [
      "/Users/zacharydawson/opt/anaconda3/lib/python3.8/site-packages/sklearn/metrics/_classification.py:1221: UndefinedMetricWarning:\n",
      "\n",
      "Precision and F-score are ill-defined and being set to 0.0 in samples with no predicted labels. Use `zero_division` parameter to control this behavior.\n",
      "\n"
     ]
    },
    {
     "name": "stdout",
     "output_type": "stream",
     "text": [
      "              precision    recall  f1-score   support\n",
      "\n",
      "        fold       0.55      0.74      0.63     13664\n",
      "       check       0.55      0.50      0.52     12674\n",
      "       raise       0.89      0.06      0.12     19126\n",
      "\n",
      "   micro avg       0.57      0.39      0.46     45464\n",
      "   macro avg       0.67      0.43      0.42     45464\n",
      "weighted avg       0.69      0.39      0.39     45464\n",
      " samples avg       0.39      0.39      0.39     45464\n",
      "\n",
      "\n",
      "AUC: 0.647006\n"
     ]
    }
   ],
   "source": [
    "import matplotlib.pyplot as plt  \n",
    "from sklearn import metrics\n",
    "from sklearn.metrics import roc_auc_score\n",
    "from sklearn.metrics import classification_report \n",
    "import matplotlib.pyplot as plt\n",
    "\n",
    "accuracy = pipeline.score(X_test, y_test)\n",
    "error = 1-accuracy\n",
    "print(\"Accuracy=\",accuracy)\n",
    "print(\"Error=\",error)\n",
    "\n",
    "predictions = pipeline.predict(X_test)\n",
    "print()\n",
    "print(classification_report(y_test, predictions, target_names=['fold', 'check', 'raise']))\n",
    "print()\n",
    "print(\"AUC: %f\"%metrics.roc_auc_score(y_test, predictions))\n",
    "\n",
    "# print(pipeline.get_params()['steps'][1][1].estimator)\n",
    "y_true = y_test\n",
    "y_probas = pipeline.predict_proba(X_test)\n",
    "# fpr, tpr, thresholds = metrics.roc_curve(y_true, y_probas)\n",
    "# skplt.metrics.plot_roc_curve(y_true, y_probas)\n",
    "# plt.show()\n",
    "# metrics.plot_roc_curve(pipeline.get_params()['steps'][1][1].estimator, X_test, y_test) \n",
    "# plt.show()"
   ]
  },
  {
   "cell_type": "markdown",
   "metadata": {},
   "source": [
    "# Remaining Work\n",
    "\n",
    "Training and evaluating additional models is pretty much all that is left. I will likely train and tune random forest, naive bayes, and SVM. If I cannot improve the model to a reasonable level I may try to create some more data from other hand histories if the models are undertrained."
   ]
  }
 ],
 "metadata": {
  "kernelspec": {
   "display_name": "Python 3",
   "language": "python",
   "name": "python3"
  },
  "language_info": {
   "codemirror_mode": {
    "name": "ipython",
    "version": 3
   },
   "file_extension": ".py",
   "mimetype": "text/x-python",
   "name": "python",
   "nbconvert_exporter": "python",
   "pygments_lexer": "ipython3",
   "version": "3.8.3"
  }
 },
 "nbformat": 4,
 "nbformat_minor": 4
}